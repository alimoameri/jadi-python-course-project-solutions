{
 "cells": [
  {
   "cell_type": "code",
   "execution_count": 2,
   "id": "c1340dbf",
   "metadata": {},
   "outputs": [
    {
     "data": {
      "text/plain": [
       "[{'Product Name': 'Apple', 'Price': '1500', 'Quantity': '5'},\n",
       " {'Product Name': 'Banana', 'Price': '1000', 'Quantity': '10'},\n",
       " {'Product Name': 'Orange', 'Price': '1200', 'Quantity': '3'},\n",
       " {'Product Name': 'Grapes', 'Price': '2000', 'Quantity': '2'}]"
      ]
     },
     "execution_count": 2,
     "metadata": {},
     "output_type": "execute_result"
    }
   ],
   "source": [
    "import csv\n",
    "\n",
    "products = []\n",
    "with open(\"1741502118270796.csv\") as file:\n",
    "  reader = csv.DictReader(file)\n",
    "  products = list(reader)\n",
    "\n",
    "products"
   ]
  },
  {
   "cell_type": "code",
   "execution_count": 7,
   "id": "aa71a930",
   "metadata": {},
   "outputs": [],
   "source": [
    "for product in products:\n",
    "  total_price = int(product[\"Price\"]) * int(product[\"Quantity\"])\n",
    "  product[\"Total Price\"] = total_price"
   ]
  },
  {
   "cell_type": "code",
   "execution_count": 11,
   "id": "80b6734c",
   "metadata": {},
   "outputs": [],
   "source": [
    "with open(\"1.output.csv\", \"wt\") as file:\n",
    "  writer = csv.DictWriter(file, fieldnames=products[0].keys())\n",
    "  writer.writeheader()\n",
    "  writer.writerows(products)"
   ]
  },
  {
   "cell_type": "code",
   "execution_count": 12,
   "id": "126b90af",
   "metadata": {},
   "outputs": [
    {
     "name": "stdout",
     "output_type": "stream",
     "text": [
      "Product Name,Price,Quantity,Total Price\n",
      "Apple,1500,5,7500\n",
      "Banana,1000,10,10000\n",
      "Orange,1200,3,3600\n",
      "Grapes,2000,2,4000\n"
     ]
    }
   ],
   "source": [
    "!cat 1.output.csv"
   ]
  }
 ],
 "metadata": {
  "kernelspec": {
   "display_name": "base",
   "language": "python",
   "name": "python3"
  },
  "language_info": {
   "codemirror_mode": {
    "name": "ipython",
    "version": 3
   },
   "file_extension": ".py",
   "mimetype": "text/x-python",
   "name": "python",
   "nbconvert_exporter": "python",
   "pygments_lexer": "ipython3",
   "version": "3.12.9"
  }
 },
 "nbformat": 4,
 "nbformat_minor": 5
}
