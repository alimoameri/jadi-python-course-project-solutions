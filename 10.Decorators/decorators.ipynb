{
 "cells": [
  {
   "cell_type": "code",
   "execution_count": 165,
   "id": "b9470a27",
   "metadata": {},
   "outputs": [],
   "source": [
    "import time\n",
    "\n",
    "def track_time(f):\n",
    "  def wrapper(*args):\n",
    "    s = time.perf_counter()\n",
    "    result = f(*args)\n",
    "    e = time.perf_counter()\n",
    "    return {\"function\": f'{f.__name__}{args}', \"result\": result, \"execution_time\": f'{e - s}'}\n",
    "  return wrapper"
   ]
  },
  {
   "cell_type": "code",
   "execution_count": 166,
   "id": "1e709a8c",
   "metadata": {},
   "outputs": [],
   "source": [
    "@track_time\n",
    "def add(a, b):\n",
    "    return a + b\n",
    "\n",
    "@track_time\n",
    "def substract(a, b):\n",
    "    return a - b\n",
    "\n",
    "@track_time\n",
    "def multiply(a, b):\n",
    "    return a * b\n",
    "\n",
    "@track_time\n",
    "def devide(a, b):\n",
    "    return a / b"
   ]
  },
  {
   "cell_type": "code",
   "execution_count": 168,
   "id": "09ddba10",
   "metadata": {},
   "outputs": [
    {
     "name": "stdout",
     "output_type": "stream",
     "text": [
      "{'function': 'add(10, 5)', 'result': 15, 'execution_time': '3.933999778382713e-06'}\n",
      "{'function': 'substract(10, 5)', 'result': 5, 'execution_time': '2.5829999685811345e-06'}\n",
      "{'function': 'multiply(10, 5)', 'result': 50, 'execution_time': '3.1190002118819393e-06'}\n",
      "{'function': 'devide(10, 5)', 'result': 2.0, 'execution_time': '2.8060003387508914e-06'}\n"
     ]
    }
   ],
   "source": [
    "print(add(10, 5))\n",
    "print(substract(10, 5))\n",
    "print(multiply(10, 5))\n",
    "print(devide(10, 5))"
   ]
  },
  {
   "cell_type": "code",
   "execution_count": 169,
   "id": "0fcd2909",
   "metadata": {},
   "outputs": [],
   "source": [
    "@track_time\n",
    "def generate_sequence(n):\n",
    "  return list(range(1, n+1))"
   ]
  },
  {
   "cell_type": "code",
   "execution_count": 170,
   "id": "81184442",
   "metadata": {},
   "outputs": [
    {
     "name": "stdout",
     "output_type": "stream",
     "text": [
      "n: 10, execution_time: 1.0193999969487777e-05\n",
      "n: 1000, execution_time: 8.912000021155109e-05\n",
      "n: 100000000, execution_time: 4.983192658000007\n"
     ]
    }
   ],
   "source": [
    "print(f'n: 10, execution_time: {generate_sequence(10)[\"execution_time\"]}')\n",
    "print(f'n: 1000, execution_time: {generate_sequence(1000)[\"execution_time\"]}')\n",
    "print(f'n: 100000000, execution_time: {generate_sequence(100000000)[\"execution_time\"]}')"
   ]
  }
 ],
 "metadata": {
  "kernelspec": {
   "display_name": "game_env",
   "language": "python",
   "name": "python3"
  },
  "language_info": {
   "codemirror_mode": {
    "name": "ipython",
    "version": 3
   },
   "file_extension": ".py",
   "mimetype": "text/x-python",
   "name": "python",
   "nbconvert_exporter": "python",
   "pygments_lexer": "ipython3",
   "version": "3.12.3"
  }
 },
 "nbformat": 4,
 "nbformat_minor": 5
}
