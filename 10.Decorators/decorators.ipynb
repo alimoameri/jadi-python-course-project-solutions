{
 "cells": [
  {
   "cell_type": "code",
   "execution_count": 149,
   "id": "b9470a27",
   "metadata": {},
   "outputs": [],
   "source": [
    "import time\n",
    "\n",
    "def track_time(f):\n",
    "  def wrapper(*args):\n",
    "    s = time.time()\n",
    "    result = f(*args)\n",
    "    e = time.time()\n",
    "    return {\"name\": f.__name__, \"args\": args, \"result\": result, \"execution_time\": f'{e - s}'}\n",
    "  return wrapper"
   ]
  },
  {
   "cell_type": "code",
   "execution_count": 150,
   "id": "1e709a8c",
   "metadata": {},
   "outputs": [],
   "source": [
    "@track_time\n",
    "def add(a, b):\n",
    "    return a + b\n",
    "\n",
    "@track_time\n",
    "def substract(a, b):\n",
    "    return a - b\n",
    "\n",
    "@track_time\n",
    "def multiply(a, b):\n",
    "    return a * b\n",
    "\n",
    "@track_time\n",
    "def devide(a, b):\n",
    "    return a / b"
   ]
  },
  {
   "cell_type": "code",
   "execution_count": 151,
   "id": "09ddba10",
   "metadata": {},
   "outputs": [
    {
     "name": "stdout",
     "output_type": "stream",
     "text": [
      "{'name': 'add', 'args': (10, 5), 'result': 15, 'execution_time': '1.6689300537109375e-06'}\n",
      "{'name': 'substract', 'args': (10, 5), 'result': 5, 'execution_time': '1.6689300537109375e-06'}\n",
      "{'name': 'multiply', 'args': (10, 5), 'result': 50, 'execution_time': '9.5367431640625e-07'}\n",
      "{'name': 'devide', 'args': (10, 5), 'result': 2.0, 'execution_time': '1.1920928955078125e-06'}\n"
     ]
    }
   ],
   "source": [
    "print(add(10, 5))\n",
    "print(substract(10, 5))\n",
    "print(multiply(10, 5))\n",
    "print(devide(10, 5))"
   ]
  },
  {
   "cell_type": "code",
   "execution_count": 152,
   "id": "0fcd2909",
   "metadata": {},
   "outputs": [],
   "source": [
    "@track_time\n",
    "def generate_sequence(n):\n",
    "  return list(range(1, n+1))"
   ]
  },
  {
   "cell_type": "code",
   "execution_count": 154,
   "id": "81184442",
   "metadata": {},
   "outputs": [
    {
     "name": "stdout",
     "output_type": "stream",
     "text": [
      "n: 10, execution_time: 1.1920928955078125e-05\n",
      "n: 1000, execution_time: 0.00011467933654785156\n",
      "n: 100000000, execution_time: 4.226330280303955\n"
     ]
    }
   ],
   "source": [
    "print(f'n: 10, execution_time: {generate_sequence(10)[\"execution_time\"]}')\n",
    "print(f'n: 1000, execution_time: {generate_sequence(1000)[\"execution_time\"]}')\n",
    "print(f'n: 100000000, execution_time: {generate_sequence(100000000)[\"execution_time\"]}')"
   ]
  }
 ],
 "metadata": {
  "kernelspec": {
   "display_name": "game_env",
   "language": "python",
   "name": "python3"
  },
  "language_info": {
   "codemirror_mode": {
    "name": "ipython",
    "version": 3
   },
   "file_extension": ".py",
   "mimetype": "text/x-python",
   "name": "python",
   "nbconvert_exporter": "python",
   "pygments_lexer": "ipython3",
   "version": "3.12.3"
  }
 },
 "nbformat": 4,
 "nbformat_minor": 5
}
