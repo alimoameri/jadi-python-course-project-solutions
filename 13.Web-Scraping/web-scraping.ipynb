{
 "cells": [
  {
   "cell_type": "code",
   "execution_count": null,
   "id": "45b4ae85",
   "metadata": {},
   "outputs": [],
   "source": [
    "!pip install -qU bs4 requests"
   ]
  },
  {
   "cell_type": "code",
   "execution_count": 85,
   "id": "951513f1",
   "metadata": {},
   "outputs": [
    {
     "name": "stdout",
     "output_type": "stream",
     "text": [
      "<!DOCTYPE html>\n",
      "<html dir=\"rtl\" lang=\"fa-IR\" xmlns=\"http://www.w3.org/1999/xhtml\" xmlns:og=\"https://ogp.me/ns#\">\n",
      " <head>\n",
      "  <meta charset=\"utf-8\"/>\n",
      "  <meta content=\"text/html;charset=utf-8\" http-equiv=\"Content-type\">\n",
      "   <meta content=\"width=device-width, initial-scale=1.0, maximum-scale=1.0, user-scalable=no, viewport-fit=cover\" name=\"viewport\"/>\n",
      "   <meta content=\"True\" name=\"HandheldFriendly\"/>\n",
      "   <meta content=\"320\" name=\"MobileOptimized\"/>\n",
      "   <meta content=\"on\" http-equiv=\"cleartype\"/>\n",
      "   <link href=\"https://img.iranketab.ir\" rel=\"preconnect\"/>\n",
      "   <title>\n",
      "    کتاب همزاد اثر فئودور داستایفسکی | ایران کتاب\n",
      "   </title>\n",
      "   <meta content=\"خرید کتاب همزاد کابوسی وهم آلود و به شکل غافلگیرکننده ای مدرن مترجم سروش حبیبی نویسنده فئودور داستایفسکی  انتشارات ماهی\" name=\"description\"/>\n",
      "   <meta content=\"خرید کتاب، خرید اینترنتی کتاب، سایت خرید کتاب، کتاب آنلاین، کتاب همزاد,The Double\" name=\"keywords\"/>\n",
      "   <link href=\"https://www.iranketab.ir/book/2373-the-double\" rel=\"canonical\">\n",
      "    <meta conten\n"
     ]
    }
   ],
   "source": [
    "import requests\n",
    "from bs4 import BeautifulSoup\n",
    "\n",
    "response = requests.get(\"https://www.iranketab.ir/book/2373-the-double\")\n",
    "soup = BeautifulSoup(response.text)\n",
    "print(soup.prettify()[:1000])"
   ]
  },
  {
   "cell_type": "code",
   "execution_count": 4,
   "id": "296d9d72",
   "metadata": {},
   "outputs": [
    {
     "data": {
      "text/plain": [
       "'کتاب همزاد اثر فئودور داستایفسکی | ایران کتاب'"
      ]
     },
     "execution_count": 4,
     "metadata": {},
     "output_type": "execute_result"
    }
   ],
   "source": [
    "page_title = soup.title.text\n",
    "page_title"
   ]
  },
  {
   "cell_type": "code",
   "execution_count": null,
   "id": "fb1710c8",
   "metadata": {},
   "outputs": [
    {
     "data": {
      "text/plain": [
       "4"
      ]
     },
     "execution_count": 17,
     "metadata": {},
     "output_type": "execute_result"
    }
   ],
   "source": [
    "import re\n",
    "book_elements = soup.find_all(id=re.compile(r'^p-\\d+$'))  # Matches IDs like p-1234, p-5678, etc.\n",
    "len(book_elements)"
   ]
  },
  {
   "cell_type": "code",
   "execution_count": 82,
   "id": "56dd1828",
   "metadata": {},
   "outputs": [
    {
     "name": "stdout",
     "output_type": "stream",
     "text": [
      "{'book_title': 'کتاب همزاد',\n",
      " 'author': 'فئودور داستایفسکی',\n",
      " 'translator': 'طوبی مردانی',\n",
      " 'publisher': 'نشر بهنود',\n",
      " 'img_src': 'https://img.iranketab.ir/img/150x220?pic=www.iranketab.ir/Images/ProductImages/Thumbs/ef6ec5dc0cdd403bb733254a0a8dbca5.jpg',\n",
      " 'rating': '3.6',\n",
      " 'number_of_votes': '1',\n",
      " 'price': '189000'}\n",
      "{'book_title': 'کتاب همزاد',\n",
      " 'author': 'فئودور داستایفسکی',\n",
      " 'translator': 'ناصر موذن',\n",
      " 'publisher': 'نگاه',\n",
      " 'img_src': 'https://img.iranketab.ir/img/150x220?pic=www.iranketab.ir/Images/ProductImages/Thumbs/8eea51a333e847b68c646c427962b5d4.jpg',\n",
      " 'rating': '2.25',\n",
      " 'number_of_votes': '2',\n",
      " 'price': '208250'}\n",
      "{'book_title': 'کتاب همزاد',\n",
      " 'author': 'فئودور داستایفسکی',\n",
      " 'translator': 'سروش حبیبی',\n",
      " 'publisher': 'ماهی',\n",
      " 'img_src': 'https://img.iranketab.ir/img/150x220?pic=www.iranketab.ir/Images/ProductImages/Thumbs/4154fdd04a4945df93221e65bf1f6406.jpg',\n",
      " 'rating': '4',\n",
      " 'number_of_votes': '21',\n",
      " 'price': '215000'}\n",
      "{'book_title': 'کتاب همزاد',\n",
      " 'author': 'فئودور داستایفسکی',\n",
      " 'translator': 'نسرین مجیدی',\n",
      " 'publisher': 'روزگار',\n",
      " 'img_src': 'https://img.iranketab.ir/img/150x220?pic=www.iranketab.ir/Images/ProductImages/Thumbs/135be629cc964c4c92750fb37dfdd22c.jpg',\n",
      " 'rating': '3.3',\n",
      " 'number_of_votes': '1',\n",
      " 'price': '119000'}\n"
     ]
    }
   ],
   "source": [
    "from pprint import pp\n",
    "\n",
    "for book in book_elements:\n",
    "  img_src = book.img[\"src\"]\n",
    "  rating = book.select(\"div:nth-child(2) > div:nth-child(1) > div:nth-child(1) > span:nth-child(2)\")[0].text\n",
    "  number_of_votes = book.select(\"div:nth-child(2) > div:nth-child(1) > div:nth-child(1) > span:nth-child(4)\")[0].text\n",
    "  book_title = book.select(\"div:nth-child(2) > div:nth-child(2) > div:nth-child(1) > div:nth-child(1) > h2:nth-child(1) > strong:nth-child(1)\")[0].text\n",
    "  author = book.select(\"div:nth-child(2) > div:nth-child(2) > div:nth-child(1) > div:nth-child(2) > div:nth-child(1) > div:nth-child(2) > a:nth-child(2) > span:nth-child(1)\")[0].text\n",
    "  translator = book.select(\"div:nth-child(2) > div:nth-child(2) > div:nth-child(1) > div:nth-child(2) > div:nth-child(2) > div:nth-child(2) > a:nth-child(2) > span:nth-child(1)\")[0].text\n",
    "  publisher = book.select(\"div:nth-child(2) > div:nth-child(2) > div:nth-child(1) > div:nth-child(2) > div:nth-child(3) > a:nth-child(2) > span:nth-child(1)\")[0].text\n",
    "  price = book.select(\".toman\")[0].text\n",
    "  pp({\"book_title\": book_title,\n",
    "      \"author\": author,\n",
    "      \"translator\": translator,\n",
    "      \"publisher\": publisher,\n",
    "      \"img_src\": img_src,\n",
    "      \"rating\": rating,\n",
    "      \"number_of_votes\": number_of_votes,\n",
    "      \"price\": price})"
   ]
  }
 ],
 "metadata": {
  "kernelspec": {
   "display_name": "game_env",
   "language": "python",
   "name": "python3"
  },
  "language_info": {
   "codemirror_mode": {
    "name": "ipython",
    "version": 3
   },
   "file_extension": ".py",
   "mimetype": "text/x-python",
   "name": "python",
   "nbconvert_exporter": "python",
   "pygments_lexer": "ipython3",
   "version": "3.12.3"
  }
 },
 "nbformat": 4,
 "nbformat_minor": 5
}
